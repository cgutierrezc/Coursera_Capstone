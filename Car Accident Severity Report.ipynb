{
    "cells": [
        {
            "metadata": {
                "collapsed": true
            },
            "cell_type": "markdown",
            "source": "# Capstone Project - Car Accident Severity Report\n\n## Introduction\n\n### Background\nSupposing that you are driving to another city for work or to visit some friends. It is rainy and windy, and on the way, you come across a terrible traffic jam on the other side of the highway. Long lines of cars barely moving. As you keep driving, police car start appearing from a far shutting down the highway.\n\nThere is an accident and there's a helicopter transporting the ones involved in the crash to the nearest hospital. They must be in critical condition for all of this to be happening. Now, wouldn't it be great if there is something in place that could warn you, given the weather and the road conditions about the possibility of you getting into a car accident and how severe it would be, so that you would drive more carefully or even change your travel if you are able to. \n\n### Business problem\nMore than 38,000 people die every year in crashes on U.S. roadways. (https://www.asirt.org). The U.S. traffic fatality rate is 12.4 deaths per 100,000 inhabitants. Road crashes are the leading cause of death in the U.S. for people aged 1-54 and the economic and societal impact of road crashes costs U.S. citizens $871 billion.\n\nPedestrian and bicyclist fatalities continue to rise in the United States. According to the National HighwayTrayc Safety Administration (NHTSA), more pedestrians and cyclists were killed in 2018 than in any year since1990.\n\nA number of factors contribute to road crashes and resulting deaths and severity of injuries. These include:\n* Poor road infrastructure and management\n* Non-road worthy vehicles\n* Unenforced or non-existent traffic laws\n* Unsafe road user behaviors and Inadequate post-crash care.\n\n### Interest and Justification\nBy understanding each of these factors and through planning, executive management and evidence-based interventions, road crashes can be predicted and prevented. Having access to accurate and updated information about the current road situation enables drivers, pedestrians and passengers to make informed road safety decisions.\n\nWell, this is exactly what you we will be working on in this case study by using an historical dataset information of the City of Seattle related to statistical collisions to predict the severity of an accident. \n\n## Data\n\nThe dataset that we are going to use was take from https://data-seattlecitygis.opendata.arcgis.com/datasets/5b5c745e0f1f48e7a53acec63a0022ab_0 and consist of  about 221,000 observations and 40 features of an historical collision statistic from 2004 to present, to know more in details about the complete dataset, it can be reviewed from  https://www.seattle.gov/Documents/Departments/SDOT/GIS/Collisions_OD.pdf\n\nThe dataset meets the following criteria and they will be useful for the next steps in our analysis:\n\n1.\tThe target or label columns should be accident \"severity\" in terms of human fatality, traffic delay, property damage, or any other type of accident bad impact. \n2.\tThe machine learning model should be able to predict accident \"severity\"\n3.\tTo build a good model, the dataset should be rich and contain many observations (rows) and various attributes (columns).\n\n"
        }
    ],
    "metadata": {
        "kernelspec": {
            "name": "python3",
            "display_name": "Python 3.6",
            "language": "python"
        },
        "language_info": {
            "name": "python",
            "version": "3.6.9",
            "mimetype": "text/x-python",
            "codemirror_mode": {
                "name": "ipython",
                "version": 3
            },
            "pygments_lexer": "ipython3",
            "nbconvert_exporter": "python",
            "file_extension": ".py"
        }
    },
    "nbformat": 4,
    "nbformat_minor": 1
}