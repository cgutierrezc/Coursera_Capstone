{
    "cells": [
        {
            "metadata": {
                "collapsed": true
            },
            "cell_type": "markdown",
            "source": "# Capstone Project - The Battle of Neighborhoods\n\n\n## Introduction\n\nCOVID-19 not only has caused lots of deaths and grief to some around the world, but only has coused an economic lost in many countries.\n\nThis disruption on our life has created the necesity of many people to move to another cities in their countries.\n\nMexico City it is not the exception and as a Mexican we have seen how many people is looking for a better neighbourhood wich has all the best venues and make the best decision to move to a new neighbour.\n\nMexico City is one of the largest around the world and over the last decades has been growing faster in Latin America with more than 9 million people in the Cit and almost 20 million people in the metropolitan area. \n\nIn this report we will try to analyse what are the best neighbourhoods in the city according to its venues and other services which would be a valuable information to make people have the best decision acording the features of a neighbourhood can offer.\n\n\n## Data Requeriments\n\nTo achieve the objectives of this report we will use some Data Science concepts and techiniques such as Machine Learning.\n\nWe will be using the following information:  \n * Mexico City, list of the boroughs according with its zipcodes, latitude and longitud. Data source : https://datos.gob.mx/busca/dataset?q=codigos%20postales&\n * Information of the top venues in each neighbourhood by using the Fousquare API Description.\n * We are going to generate maps to visualize the neighborhoods and how they cluster together by using the Geopy library from Python.\n * We explore how many boroughs and neighboarhoods contains the data set file.\n \n With all this features we can start the process of analysing, reporting and making conclusions about the results.\n"
        }
    ],
    "metadata": {
        "kernelspec": {
            "name": "python3",
            "display_name": "Python 3.7",
            "language": "python"
        },
        "language_info": {
            "name": "python",
            "version": "3.7.9",
            "mimetype": "text/x-python",
            "codemirror_mode": {
                "name": "ipython",
                "version": 3
            },
            "pygments_lexer": "ipython3",
            "nbconvert_exporter": "python",
            "file_extension": ".py"
        }
    },
    "nbformat": 4,
    "nbformat_minor": 1
}